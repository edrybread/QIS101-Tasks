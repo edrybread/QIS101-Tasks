{
 "cells": [
  {
   "cell_type": "code",
   "execution_count": 1,
   "id": "1bf723ef-c3bf-47df-b181-3c38d5986108",
   "metadata": {},
   "outputs": [
    {
     "ename": "SyntaxError",
     "evalue": "EOL while scanning string literal (1596184559.py, line 14)",
     "output_type": "error",
     "traceback": [
      "\u001b[1;36m  Cell \u001b[1;32mIn[1], line 14\u001b[1;36m\u001b[0m\n\u001b[1;33m    \"\u001b[0m\n\u001b[1;37m     ^\u001b[0m\n\u001b[1;31mSyntaxError\u001b[0m\u001b[1;31m:\u001b[0m EOL while scanning string literal\n"
     ]
    }
   ],
   "source": [
    "\"\"\"majority_vote.ipynb\"\"\"\n",
    "# Cell 1 - \n",
    "from __future__ import annotations\n",
    "\n",
    "import typing\n",
    "\n",
    "import numpy as np\n",
    "from IPython.core.display import Math\n",
    "from qis101_utils import as_latex\n",
    "\n",
    "if typing.TYPE_CHECKING:\n",
    "    from numpy.typing import NDArray\n",
    "\n",
    "\"\"\"This program writes out a truth table for a majority vote circuit.\n",
    "Cell 1 defines the AND and OR logic gates while Cell 2 uses Numpy's matrix algebra\n",
    "functions to calculate the truth table values. Finally a set of 3 nested for loops\n",
    "displays the truth table in a readable way. For this display, [1, 0] is 0 or False\n",
    "and [0, 1] is 1 or True.\"\"\"\n",
    "\n",
    "f: NDArray[np.complex_] = np.array([[1], [0]])\n",
    "t: NDArray[np.complex_] = np.array([[0], [1]])\n",
    "\n",
    "g_and: NDArray[np.complex_] = np.array([[1, 1, 1, 0], [0, 0, 0, 1]])\n",
    "g_or: NDArray[np.complex_] = np.array([[1, 0, 0, 0], [0, 1, 1, 1]])"
   ]
  },
  {
   "cell_type": "code",
   "execution_count": 3,
   "id": "2d03c363-7209-4113-86fb-f42bf57433f3",
   "metadata": {},
   "outputs": [
    {
     "name": "stdout",
     "output_type": "stream",
     "text": [
      "a: [1 0]  b: [1 0]  c: [1 0]  v: [1 0]\n",
      "a: [1 0]  b: [1 0]  c: [0 1]  v: [1 0]\n",
      "a: [1 0]  b: [0 1]  c: [1 0]  v: [1 0]\n",
      "a: [1 0]  b: [0 1]  c: [0 1]  v: [0 1]\n",
      "a: [0 1]  b: [1 0]  c: [1 0]  v: [1 0]\n",
      "a: [0 1]  b: [1 0]  c: [0 1]  v: [0 1]\n",
      "a: [0 1]  b: [0 1]  c: [1 0]  v: [0 1]\n",
      "a: [0 1]  b: [0 1]  c: [0 1]  v: [0 1]\n"
     ]
    }
   ],
   "source": [
    "def circuit(\n",
    "    a: NDArray[np.complex_],\n",
    "    b: NDArray[np.complex_],\n",
    "    c: NDArray[np.complex_],\n",
    "    \n",
    ") -> NDArray[np.complex_]:\n",
    "    g1: NDArray[np.complex_] = np.dot(g_and, np.kron(a, c))\n",
    "    g2: NDArray[np.complex_] = np.dot(g_and, np.kron(a, b))\n",
    "    g3: NDArray[np.complex_] = np.dot(g_and, np.kron(b, c))\n",
    "    g4: NDArray[np.complex_] = np.dot(g_or, np.kron(g1, g2))\n",
    "    g5: NDArray[np.complex_] = np.dot(g_or, np.kron(g2, g3))\n",
    "    g6: NDArray[np.complex_] = np.dot(g_or, np.kron(g4, g5))\n",
    "    return g6\n",
    "\n",
    "\n",
    "# Create truth table for three inputs and show the output\n",
    "for a in [f, t]:\n",
    "    for b in [f, t]:\n",
    "        for c in [f, t]:\n",
    "            print(f\"a: [{a[0][0]} {a[1][0]}]\", end=\"  \")\n",
    "            print(f\"b: [{b[0][0]} {b[1][0]}]\", end=\"  \")\n",
    "            print(f\"c: [{c[0][0]} {c[1][0]}]\", end=\"  \")\n",
    "            v: NDArray[np.complex_] = circuit(a, b, c)\n",
    "            print(f\"v: [{v[0][0]} {v[1][0]}]\")"
   ]
  },
  {
   "cell_type": "code",
   "execution_count": null,
   "id": "2bea000a-b313-4ac7-b586-624258239e66",
   "metadata": {},
   "outputs": [],
   "source": []
  }
 ],
 "metadata": {
  "kernelspec": {
   "display_name": "Python 3 (ipykernel)",
   "language": "python",
   "name": "python3"
  },
  "language_info": {
   "codemirror_mode": {
    "name": "ipython",
    "version": 3
   },
   "file_extension": ".py",
   "mimetype": "text/x-python",
   "name": "python",
   "nbconvert_exporter": "python",
   "pygments_lexer": "ipython3",
   "version": "3.9.16"
  }
 },
 "nbformat": 4,
 "nbformat_minor": 5
}
