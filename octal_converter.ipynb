{
 "cells": [
  {
   "cell_type": "code",
   "execution_count": 1,
   "id": "e000aa33-b104-4348-b659-8e717059b018",
   "metadata": {},
   "outputs": [
    {
     "name": "stdout",
     "output_type": "stream",
     "text": [
      "2323 in octal = 1,235 in decimal\n"
     ]
    }
   ],
   "source": [
    "\"\"\"octal_converter.ipynb\"\"\"\n",
    "# Cell 1 - Octal to Decimal\n",
    "\n",
    "import numpy as np\n",
    "\n",
    "\"\"\"This program converts numbers from base 8 to base 10 and back in two different \n",
    "ways\"\"\"\n",
    "def octal_to_decimal(b: str) -> int:\n",
    "    \"\"\"This function converts numbers from base 8 to base 10 using array slicing/\n",
    "    string reversal.\"\"\"\n",
    "    # Reverse string 'b' because the\n",
    "    # LSB must be in first position\n",
    "    b = b[::-1]\n",
    "    sum = 0\n",
    "    for position in range(len(b)):\n",
    "        weight: int = pow(8, position)\n",
    "        digit = int(b[position])\n",
    "        sum += digit * weight\n",
    "    return sum\n",
    "\n",
    "\n",
    "b = \"2323\"\n",
    "d: int = octal_to_decimal(b)\n",
    "print(f\"{b} in octal = {d:,} in decimal\")"
   ]
  },
  {
   "cell_type": "code",
   "execution_count": 1,
   "id": "3fc52bc1-3c56-466a-a8ff-cf783e169be9",
   "metadata": {},
   "outputs": [
    {
     "name": "stdout",
     "output_type": "stream",
     "text": [
      "1,235 in decimal = 2323 in octal\n"
     ]
    }
   ],
   "source": [
    "# Cell 2 - Decimal to Octal\n",
    "\n",
    "\n",
    "def decimal_to_octal(d: int) -> str:\n",
    "    \"\"\"This program converts numbers from base 10 to base 8 using the modulus and \n",
    "    division\"\"\"\n",
    "    b: str = \"\"\n",
    "    while d > 0:\n",
    "        b += str(d % 8)\n",
    "        d = int(d / 8)\n",
    "    # Reverse string 'b' because the\n",
    "    # LSB must be in first position\n",
    "    b = b[::-1]\n",
    "    return b\n",
    "\n",
    "\n",
    "d: int = 1235\n",
    "b: str = decimal_to_octal(d)\n",
    "print(f\"{d:,} in decimal = {b} in octal\")"
   ]
  },
  {
   "cell_type": "code",
   "execution_count": 2,
   "id": "f9e25ff0-141a-4be4-8752-490efb34cc3f",
   "metadata": {},
   "outputs": [
    {
     "name": "stdout",
     "output_type": "stream",
     "text": [
      "2323 in octal = 1,235 in decimal\n"
     ]
    }
   ],
   "source": [
    "# Cell 3 - Calling built-in functions for base conversion\n",
    "\"\"\"Cells 3 and 4 convert the numbers between bases using the conversion function \n",
    "built into python's int.\"\"\"\n",
    "# Better to call the built-in integer constructor\n",
    "b: str = \"2323\"\n",
    "d: int = int(b, 8)\n",
    "print(f\"{b} in octal = {d:,} in decimal\")"
   ]
  },
  {
   "cell_type": "code",
   "execution_count": null,
   "id": "f6484bd9-10c4-4c9e-8182-7194e543dd00",
   "metadata": {},
   "outputs": [],
   "source": [
    "# Better to call numpy's built-in base converter\n",
    "d: int = 1235\n",
    "b: str = np.base_repr(d, base=8)\n",
    "print(f\"{d:,} in decimal = {b} in octal\")"
   ]
  }
 ],
 "metadata": {
  "kernelspec": {
   "display_name": "Python 3 (ipykernel)",
   "language": "python",
   "name": "python3"
  },
  "language_info": {
   "codemirror_mode": {
    "name": "ipython",
    "version": 3
   },
   "file_extension": ".py",
   "mimetype": "text/x-python",
   "name": "python",
   "nbconvert_exporter": "python",
   "pygments_lexer": "ipython3",
   "version": "3.9.16"
  }
 },
 "nbformat": 4,
 "nbformat_minor": 5
}
