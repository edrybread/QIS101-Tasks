{
 "cells": [
  {
   "cell_type": "code",
   "execution_count": 1,
   "id": "0e59ee11-e945-4d2c-9c90-bc10a02b63b4",
   "metadata": {},
   "outputs": [
    {
     "data": {
      "text/latex": [
       "$\\displaystyle {i!} = 0.4980-0.1549j$"
      ],
      "text/plain": [
       "<IPython.core.display.Math object>"
      ]
     },
     "metadata": {},
     "output_type": "display_data"
    }
   ],
   "source": [
    "# complex_factorial.ipynb\n",
    "# Cell 1\n",
    "\n",
    "import numpy as np\n",
    "import scipy.integrate\n",
    "from IPython.core.display import Math\n",
    "\"\"\"This program was made using Dr. Biersach's solution. It computes the\n",
    "factorial of the complex number i using integration\"\"\"\n",
    "def f(x: float) -> float:\n",
    "    return np.exp(-x) * np.cos(np.log(x))\n",
    "\n",
    "def g(x: float) -> float:\n",
    "    return np.exp(-x) * np.sin(np.log(x))\n",
    "\n",
    "integral_f: float = scipy.integrate.quad(f, 0, 1000)[0]\n",
    "integral_g: float = scipy.integrate.quad(g, 0, 1000)[0]\n",
    "\n",
    "factorial = complex(integral_f, integral_g)\n",
    "\n",
    "display(Math(rf\"${{i!}} = {factorial:.4f}$\"))"
   ]
  },
  {
   "cell_type": "code",
   "execution_count": null,
   "id": "07dbdea4-e1dd-49d2-bc80-c74aef0fb0da",
   "metadata": {},
   "outputs": [],
   "source": []
  }
 ],
 "metadata": {
  "kernelspec": {
   "display_name": "Python 3 (ipykernel)",
   "language": "python",
   "name": "python3"
  },
  "language_info": {
   "codemirror_mode": {
    "name": "ipython",
    "version": 3
   },
   "file_extension": ".py",
   "mimetype": "text/x-python",
   "name": "python",
   "nbconvert_exporter": "python",
   "pygments_lexer": "ipython3",
   "version": "3.9.16"
  }
 },
 "nbformat": 4,
 "nbformat_minor": 5
}
